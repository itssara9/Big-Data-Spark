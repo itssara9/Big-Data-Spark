{
  "cells": [
    {
      "cell_type": "code",
      "execution_count": 123,
      "id": "c81e02bc",
      "metadata": {
        "colab": {
          "base_uri": "https://localhost:8080/"
        },
        "id": "c81e02bc",
        "outputId": "2383580e-add9-4341-aa8b-02d3b371a8f6"
      },
      "outputs": [
        {
          "output_type": "stream",
          "name": "stdout",
          "text": [
            "Requirement already satisfied: pyspark in /usr/local/lib/python3.10/dist-packages (3.5.1)\n",
            "Requirement already satisfied: py4j==0.10.9.7 in /usr/local/lib/python3.10/dist-packages (from pyspark) (0.10.9.7)\n"
          ]
        }
      ],
      "source": [
        "!pip install pyspark"
      ]
    },
    {
      "cell_type": "code",
      "execution_count": 124,
      "id": "9097e6f6",
      "metadata": {
        "id": "9097e6f6"
      },
      "outputs": [],
      "source": [
        "# Importing the libraries\n",
        "from pyspark.sql import SparkSession\n",
        "from pyspark.sql.functions import countDistinct, avg,\\\n",
        "count, date_format , max, to_date, col,year, month, day, coalesce, cast\n",
        "import pandas as pd\n",
        "import matplotlib.pyplot as plt\n",
        "import seaborn as sns\n",
        "from pyspark.sql.functions import to_date, col\n",
        "from pyspark.ml.feature import StringIndexer, VectorAssembler\n",
        "from pyspark.ml import Pipeline"
      ]
    },
    {
      "cell_type": "code",
      "execution_count": 125,
      "id": "ac770bc9",
      "metadata": {
        "id": "ac770bc9"
      },
      "outputs": [],
      "source": [
        "#create a SparkSession\n",
        "spark=SparkSession.builder.appName('project').config(\"spark.sql.legacy.timeParserPolicy\", \"LEGACY\").getOrCreate()"
      ]
    },
    {
      "cell_type": "code",
      "execution_count": 126,
      "id": "7b7ac517",
      "metadata": {
        "id": "7b7ac517"
      },
      "outputs": [],
      "source": [
        "# Importing the dataset\n",
        "df=spark.read.csv('crime.csv', inferSchema=True, header=True)"
      ]
    },
    {
      "cell_type": "code",
      "execution_count": 127,
      "id": "af213abf",
      "metadata": {
        "colab": {
          "base_uri": "https://localhost:8080/"
        },
        "id": "af213abf",
        "outputId": "e2abda9f-e871-4700-ae1c-fa2d8254ae01"
      },
      "outputs": [
        {
          "output_type": "stream",
          "name": "stdout",
          "text": [
            "root\n",
            " |-- incident_id: long (nullable = true)\n",
            " |-- offense_id: long (nullable = true)\n",
            " |-- offense_code: integer (nullable = true)\n",
            " |-- offense_code_extension: integer (nullable = true)\n",
            " |-- offense_type_id: string (nullable = true)\n",
            " |-- offense_category_id: string (nullable = true)\n",
            " |-- first_occurrence_date: string (nullable = true)\n",
            " |-- last_occurrence_date: string (nullable = true)\n",
            " |-- reported_date: string (nullable = true)\n",
            " |-- incident_address: string (nullable = true)\n",
            " |-- geo_x: double (nullable = true)\n",
            " |-- geo_y: double (nullable = true)\n",
            " |-- geo_lon: double (nullable = true)\n",
            " |-- geo_lat: double (nullable = true)\n",
            " |-- district_id: string (nullable = true)\n",
            " |-- precinct_id: integer (nullable = true)\n",
            " |-- neighborhood_id: string (nullable = true)\n",
            " |-- is_crime: integer (nullable = true)\n",
            " |-- is_traffic: integer (nullable = true)\n",
            " |-- victim_count: integer (nullable = true)\n",
            "\n"
          ]
        }
      ],
      "source": [
        "df.printSchema()"
      ]
    },
    {
      "cell_type": "code",
      "execution_count": 128,
      "id": "03872c35",
      "metadata": {
        "colab": {
          "base_uri": "https://localhost:8080/"
        },
        "id": "03872c35",
        "outputId": "a444ac59-9fa8-468c-d6b9-1e1c9abb9085"
      },
      "outputs": [
        {
          "output_type": "execute_result",
          "data": {
            "text/plain": [
              "['incident_id',\n",
              " 'offense_id',\n",
              " 'offense_code',\n",
              " 'offense_code_extension',\n",
              " 'offense_type_id',\n",
              " 'offense_category_id',\n",
              " 'first_occurrence_date',\n",
              " 'last_occurrence_date',\n",
              " 'reported_date',\n",
              " 'incident_address',\n",
              " 'geo_x',\n",
              " 'geo_y',\n",
              " 'geo_lon',\n",
              " 'geo_lat',\n",
              " 'district_id',\n",
              " 'precinct_id',\n",
              " 'neighborhood_id',\n",
              " 'is_crime',\n",
              " 'is_traffic',\n",
              " 'victim_count']"
            ]
          },
          "metadata": {},
          "execution_count": 128
        }
      ],
      "source": [
        " df.columns"
      ]
    },
    {
      "cell_type": "code",
      "execution_count": 129,
      "id": "jbYQx8adHULT",
      "metadata": {
        "id": "jbYQx8adHULT"
      },
      "outputs": [],
      "source": [
        "# Handling missing values\n",
        "df = df.dropna()"
      ]
    },
    {
      "cell_type": "code",
      "execution_count": 130,
      "id": "a1279a09",
      "metadata": {
        "colab": {
          "base_uri": "https://localhost:8080/"
        },
        "id": "a1279a09",
        "outputId": "66b02251-dfc8-4ef1-8a14-4c62e0ed4672"
      },
      "outputs": [
        {
          "output_type": "stream",
          "name": "stdout",
          "text": [
            "+-------+--------------------+--------------------+------------+----------------------+--------------------+-------------------+---------------------+--------------------+--------------------+--------------------+------------------+------------------+-------------------+-------------------+------------------+------------------+---------------+--------+----------+------------+\n",
            "|summary|         incident_id|          offense_id|offense_code|offense_code_extension|     offense_type_id|offense_category_id|first_occurrence_date|last_occurrence_date|       reported_date|    incident_address|             geo_x|             geo_y|            geo_lon|            geo_lat|       district_id|       precinct_id|neighborhood_id|is_crime|is_traffic|victim_count|\n",
            "+-------+--------------------+--------------------+------------+----------------------+--------------------+-------------------+---------------------+--------------------+--------------------+--------------------+------------------+------------------+-------------------+-------------------+------------------+------------------+---------------+--------+----------+------------+\n",
            "|  count|                5548|                5548|        5548|                  5548|                5548|               5548|                 5548|                5548|                5548|                5548|              5548|              5548|               5548|               5548|              5548|              5548|           5548|    5548|      5548|        5548|\n",
            "|   mean| 9.388987066802631E9|9.388987067102508E15|      2999.0|                   0.0|                NULL|               NULL|                 NULL|                NULL|                NULL|                NULL|3151563.7372025955|1691223.1144556596|-104.96111701295985| 39.729956042537815|3.4484313018391632| 362.5279379956741|           NULL|     1.0|       0.0|         1.0|\n",
            "| stddev|2.847313040429180...|2.847313040429186E16|         0.0|                   0.0|                NULL|               NULL|                 NULL|                NULL|                NULL|                NULL|19446.872603991345|15030.776616304947|0.06924404706073817|0.04117185047365701|1.7217513339518593|173.26025001844496|           NULL|     0.0|       0.0|         0.0|\n",
            "|    min|             2019900|       2019900299900|        2999|                     0|criminal-mischief...|    public-disorder|  1/1/2019 6:00:00 AM|1/1/2019 12:00:00 PM|1/1/2019 12:24:00 PM|00 BLK S BROADWAY ST|         3110266.0|         1649146.0|        -105.108494|           39.61499|                 1|               111|    athmar-park|       1|         0|           1|\n",
            "|    max|       2020890000000| 2020890000000299900|        2999|                     0|criminal-mischief...|    public-disorder|  9/9/2022 9:00:00 PM| 9/9/2022 8:51:00 AM| 9/9/2022 8:12:00 AM|W EVANS S FRTG / ...|         3232905.0|         1754122.0|       -104.6706217|         39.9009613|                 U|               999|        windsor|       1|         0|           1|\n",
            "+-------+--------------------+--------------------+------------+----------------------+--------------------+-------------------+---------------------+--------------------+--------------------+--------------------+------------------+------------------+-------------------+-------------------+------------------+------------------+---------------+--------+----------+------------+\n",
            "\n"
          ]
        }
      ],
      "source": [
        "df.describe().show(5)"
      ]
    },
    {
      "cell_type": "code",
      "execution_count": 130,
      "id": "032633c8",
      "metadata": {
        "id": "032633c8"
      },
      "outputs": [],
      "source": []
    },
    {
      "cell_type": "code",
      "execution_count": 131,
      "id": "bccfc3be",
      "metadata": {
        "colab": {
          "base_uri": "https://localhost:8080/"
        },
        "id": "bccfc3be",
        "outputId": "ec8724ee-e757-4b84-e36b-9ce1caa61850"
      },
      "outputs": [
        {
          "output_type": "stream",
          "name": "stdout",
          "text": [
            "+-----------+----------------+------------+----------------------+--------------------+-------------------+---------------------+--------------------+-------------------+-----------------+---------+---------+----------+----------+-----------+-----------+---------------+--------+----------+------------+\n",
            "|incident_id|      offense_id|offense_code|offense_code_extension|     offense_type_id|offense_category_id|first_occurrence_date|last_occurrence_date|      reported_date|     incident_loc|    geo_x|    geo_y|   geo_lon|   geo_lat|district_id|precinct_id|neighborhood_id|is_crime|is_traffic|victim_count|\n",
            "+-----------+----------------+------------+----------------------+--------------------+-------------------+---------------------+--------------------+-------------------+-----------------+---------+---------+----------+----------+-----------+-----------+---------------+--------+----------+------------+\n",
            "| 2018612468|2018612468299900|        2999|                     0|criminal-mischief...|    public-disorder|  9/6/2018 5:00:00 PM|9/6/2018 11:00:00 PM|9/7/2018 9:58:00 AM|65 S FEDERAL BLVD|3133534.0|1685797.0|-105.02533|39.7153571|          4|        411|         barnum|       1|         0|           1|\n",
            "+-----------+----------------+------------+----------------------+--------------------+-------------------+---------------------+--------------------+-------------------+-----------------+---------+---------+----------+----------+-----------+-----------+---------------+--------+----------+------------+\n",
            "only showing top 1 row\n",
            "\n"
          ]
        }
      ],
      "source": [
        " df.withColumnRenamed('incident_address', 'incident_loc').show(1)"
      ]
    },
    {
      "cell_type": "code",
      "execution_count": 132,
      "id": "5sCp7imZIAD4",
      "metadata": {
        "colab": {
          "base_uri": "https://localhost:8080/"
        },
        "id": "5sCp7imZIAD4",
        "outputId": "73bd36ac-b405-4a55-c8bf-37f19195031f"
      },
      "outputs": [
        {
          "output_type": "stream",
          "name": "stdout",
          "text": [
            "Most Recent Offense Categories:\n",
            "  offense_category_id\n",
            "0     public-disorder\n",
            "1     public-disorder\n",
            "2     public-disorder\n",
            "3     public-disorder\n",
            "4     public-disorder\n",
            "5     public-disorder\n",
            "6     public-disorder\n",
            "7     public-disorder\n"
          ]
        }
      ],
      "source": [
        "#  Most recent offense categories\n",
        "most_recent_offenses = df.orderBy(col('reported_date').desc()).select('offense_category_id').limit(8).toPandas()\n",
        "print(\"Most Recent Offense Categories:\")\n",
        "print(most_recent_offenses)"
      ]
    },
    {
      "cell_type": "code",
      "execution_count": 133,
      "id": "c832f136",
      "metadata": {
        "id": "c832f136"
      },
      "outputs": [],
      "source": [
        "df.createOrReplaceTempView('crime_data')"
      ]
    },
    {
      "cell_type": "code",
      "execution_count": 134,
      "id": "bd4b27f4",
      "metadata": {
        "colab": {
          "base_uri": "https://localhost:8080/"
        },
        "id": "bd4b27f4",
        "outputId": "70d8a6be-2f3e-402a-cdaa-a1ae79884df1"
      },
      "outputs": [
        {
          "output_type": "stream",
          "name": "stdout",
          "text": [
            "+-----------+-----------------+------------+----------------------+--------------------+-------------------+---------------------+--------------------+--------------------+------------------+---------+---------+------------+----------+-----------+-----------+---------------+--------+----------+------------+\n",
            "|incident_id|       offense_id|offense_code|offense_code_extension|     offense_type_id|offense_category_id|first_occurrence_date|last_occurrence_date|       reported_date|  incident_address|    geo_x|    geo_y|     geo_lon|   geo_lat|district_id|precinct_id|neighborhood_id|is_crime|is_traffic|victim_count|\n",
            "+-----------+-----------------+------------+----------------------+--------------------+-------------------+---------------------+--------------------+--------------------+------------------+---------+---------+------------+----------+-----------+-----------+---------------+--------+----------+------------+\n",
            "| 2018612468| 2018612468299900|        2999|                     0|criminal-mischief...|    public-disorder|  9/6/2018 5:00:00 PM|9/6/2018 11:00:00 PM| 9/7/2018 9:58:00 AM| 65 S FEDERAL BLVD|3133534.0|1685797.0|  -105.02533|39.7153571|          4|        411|         barnum|       1|         0|           1|\n",
            "| 2020293614| 2020293614299900|        2999|                     0|criminal-mischief...|    public-disorder|  5/8/2020 5:00:00 AM| 5/8/2020 6:30:00 PM|5/13/2020 10:00:0...|12295 E ALBROOK DR|3184065.0|1710782.0|-104.8450739|39.7830825|          5|        521|      montbello|       1|         0|           1|\n",
            "|20206006868|20206006868299900|        2999|                     0|criminal-mischief...|    public-disorder|  6/6/2020 1:00:00 AM| 6/6/2020 5:00:00 AM| 6/6/2020 1:29:00 PM|  900 N MADISON ST|3155851.0|1691502.0|-104.9458785|39.7306715|          2|        213|  congress-park|       1|         0|           1|\n",
            "|20226013245|20226013245299900|        2999|                     0|criminal-mischief...|    public-disorder| 7/14/2022 2:01:00 AM|7/14/2022 2:04:00 AM|7/14/2022 2:49:00 AM| 2540 N DOWNING ST|3148172.0|1699978.0|-104.9730054| 39.754065|          2|        211|       whittier|       1|         0|           1|\n",
            "| 2022454199| 2022454199299900|        2999|                     0|criminal-mischief...|    public-disorder|  9/2/2022 9:30:00 PM| 9/3/2022 6:55:00 AM|9/3/2022 11:07:00 AM|10 N SHERIDAN BLVD|3125808.0|1686311.0| -105.052784|39.7168757|          4|        411|    barnum-west|       1|         0|           1|\n",
            "+-----------+-----------------+------------+----------------------+--------------------+-------------------+---------------------+--------------------+--------------------+------------------+---------+---------+------------+----------+-----------+-----------+---------------+--------+----------+------------+\n",
            "only showing top 5 rows\n",
            "\n"
          ]
        }
      ],
      "source": [
        "#extracts and displays the first 5 records from the crime_data table that are categorized as \"public-disorder\"\n",
        "query1 = \"SELECT * FROM crime_data WHERE offense_category_id = 'public-disorder'\"\n",
        "result1 = spark.sql(query1).show(5)"
      ]
    },
    {
      "cell_type": "code",
      "execution_count": 135,
      "id": "-ZrBjdoXi2Gg",
      "metadata": {
        "colab": {
          "base_uri": "https://localhost:8080/"
        },
        "id": "-ZrBjdoXi2Gg",
        "outputId": "6ec1614f-ed4c-4e17-e8c7-4999e95c3bff"
      },
      "outputs": [
        {
          "output_type": "stream",
          "name": "stdout",
          "text": [
            "+--------------------+-----+\n",
            "|     offense_type_id|count|\n",
            "+--------------------+-----+\n",
            "|criminal-mischief...| 5548|\n",
            "+--------------------+-----+\n",
            "\n"
          ]
        }
      ],
      "source": [
        "#Classification of crime records based on their offense_type_id and displays the count of records for each category.\n",
        "query2 = \"SELECT offense_type_id, COUNT(*) AS count FROM crime_data GROUP BY offense_type_id\"\n",
        "result2 = spark.sql(query2).show(5)"
      ]
    },
    {
      "cell_type": "code",
      "execution_count": 136,
      "id": "a0KXb3oii4dr",
      "metadata": {
        "colab": {
          "base_uri": "https://localhost:8080/"
        },
        "id": "a0KXb3oii4dr",
        "outputId": "4284269f-a018-46ec-ffcd-21e578c4dc37"
      },
      "outputs": [
        {
          "output_type": "stream",
          "name": "stdout",
          "text": [
            "+-------------------+\n",
            "|offense_category_id|\n",
            "+-------------------+\n",
            "|    public-disorder|\n",
            "|    public-disorder|\n",
            "|    public-disorder|\n",
            "|    public-disorder|\n",
            "|    public-disorder|\n",
            "|    public-disorder|\n",
            "|    public-disorder|\n",
            "|    public-disorder|\n",
            "+-------------------+\n",
            "only showing top 8 rows\n",
            "\n"
          ]
        }
      ],
      "source": [
        "#retrieves and displays the most recent offense_category_id values from the crime_data table, ensuring the latest offense categories appear first in the output.\n",
        "query3 = \"SELECT offense_category_id FROM crime_data ORDER BY reported_date DESC\"\n",
        "result3 = spark.sql(query3).show(8)"
      ]
    },
    {
      "cell_type": "code",
      "execution_count": 169,
      "id": "aqNQXsDzi8U_",
      "metadata": {
        "colab": {
          "base_uri": "https://localhost:8080/"
        },
        "id": "aqNQXsDzi8U_",
        "outputId": "6b9e4241-87e5-4824-ee99-09fe79bb212b"
      },
      "outputs": [
        {
          "output_type": "execute_result",
          "data": {
            "text/plain": [
              "(1, 1)"
            ]
          },
          "metadata": {},
          "execution_count": 169
        }
      ],
      "source": [
        "# Find the maximum and minimum values of the 'victim_count' column\n",
        "max_victim_count = df.selectExpr('max(victim_count)').collect()[0][0]\n",
        "min_victim_count = df.selectExpr('min(victim_count)').collect()[0][0]\n",
        "max_victim_count, min_victim_count"
      ]
    },
    {
      "cell_type": "code",
      "execution_count": 138,
      "id": "cS10wArji8ev",
      "metadata": {
        "colab": {
          "base_uri": "https://localhost:8080/"
        },
        "id": "cS10wArji8ev",
        "outputId": "fd42b809-13e0-4e41-a564-2d2f1ae72f02"
      },
      "outputs": [
        {
          "output_type": "stream",
          "name": "stdout",
          "text": [
            "+-----------+-----------------+------------+----------------------+--------------------+-------------------+---------------------+--------------------+--------------------+------------------+---------+---------+------------+----------+-----------+-----------+---------------+--------+----------+------------+\n",
            "|incident_id|       offense_id|offense_code|offense_code_extension|     offense_type_id|offense_category_id|first_occurrence_date|last_occurrence_date|       reported_date|  incident_address|    geo_x|    geo_y|     geo_lon|   geo_lat|district_id|precinct_id|neighborhood_id|is_crime|is_traffic|victim_count|\n",
            "+-----------+-----------------+------------+----------------------+--------------------+-------------------+---------------------+--------------------+--------------------+------------------+---------+---------+------------+----------+-----------+-----------+---------------+--------+----------+------------+\n",
            "| 2018612468| 2018612468299900|        2999|                     0|criminal-mischief...|    public-disorder|  9/6/2018 5:00:00 PM|9/6/2018 11:00:00 PM| 9/7/2018 9:58:00 AM| 65 S FEDERAL BLVD|3133534.0|1685797.0|  -105.02533|39.7153571|          4|        411|         barnum|       1|         0|           1|\n",
            "| 2020293614| 2020293614299900|        2999|                     0|criminal-mischief...|    public-disorder|  5/8/2020 5:00:00 AM| 5/8/2020 6:30:00 PM|5/13/2020 10:00:0...|12295 E ALBROOK DR|3184065.0|1710782.0|-104.8450739|39.7830825|          5|        521|      montbello|       1|         0|           1|\n",
            "|20206006868|20206006868299900|        2999|                     0|criminal-mischief...|    public-disorder|  6/6/2020 1:00:00 AM| 6/6/2020 5:00:00 AM| 6/6/2020 1:29:00 PM|  900 N MADISON ST|3155851.0|1691502.0|-104.9458785|39.7306715|          2|        213|  congress-park|       1|         0|           1|\n",
            "|20226013245|20226013245299900|        2999|                     0|criminal-mischief...|    public-disorder| 7/14/2022 2:01:00 AM|7/14/2022 2:04:00 AM|7/14/2022 2:49:00 AM| 2540 N DOWNING ST|3148172.0|1699978.0|-104.9730054| 39.754065|          2|        211|       whittier|       1|         0|           1|\n",
            "| 2022454199| 2022454199299900|        2999|                     0|criminal-mischief...|    public-disorder|  9/2/2022 9:30:00 PM| 9/3/2022 6:55:00 AM|9/3/2022 11:07:00 AM|10 N SHERIDAN BLVD|3125808.0|1686311.0| -105.052784|39.7168757|          4|        411|    barnum-west|       1|         0|           1|\n",
            "+-----------+-----------------+------------+----------------------+--------------------+-------------------+---------------------+--------------------+--------------------+------------------+---------+---------+------------+----------+-----------+-----------+---------------+--------+----------+------------+\n",
            "only showing top 5 rows\n",
            "\n"
          ]
        }
      ],
      "source": [
        "# Filter the data where 'victim_count' is greater than 1 or 'is_crime' is 1\n",
        "filtered_data_or = df.filter((df['victim_count'] > 1) | (df['is_crime'] == 1))\n",
        "\n",
        "filtered_data_or.show(5)"
      ]
    },
    {
      "cell_type": "code",
      "execution_count": 139,
      "id": "Yb06GQArjAYv",
      "metadata": {
        "colab": {
          "base_uri": "https://localhost:8080/"
        },
        "id": "Yb06GQArjAYv",
        "outputId": "7fa3528b-faef-4d3b-cd16-f53d76c9ed7e"
      },
      "outputs": [
        {
          "output_type": "stream",
          "name": "stdout",
          "text": [
            "+--------------------+-----+\n",
            "|    incident_address|count|\n",
            "+--------------------+-----+\n",
            "|     1319 N MEADE ST|    1|\n",
            "|      2525 W 6TH AVE|    3|\n",
            "| 1506 S FEDERAL BLVD|    2|\n",
            "|    1225 N MONACO ST|    1|\n",
            "|      1440 N KNOX CT|    1|\n",
            "|    781 N VALLEJO ST|    2|\n",
            "|   8720 E COLFAX AVE|    1|\n",
            "|    2950 W EVANS AVE|    1|\n",
            "|    10900 E SMITH RD|    1|\n",
            "|  2207 S CHEROKEE ST|    1|\n",
            "|   2822 N JACKSON ST|    1|\n",
            "| 2042 S JOSEPHINE ST|    1|\n",
            "|         621 17TH ST|    1|\n",
            "|     3801 E MLK BLVD|    1|\n",
            "|    777 E SPEER BLVD|    1|\n",
            "|    4590 N PEORIA ST|    3|\n",
            "|      4140 N COOK ST|    1|\n",
            "|    1364 N LEYDEN ST|    1|\n",
            "|1995 S SHERIDAN BLVD|    1|\n",
            "|     1329 N GRANT ST|    1|\n",
            "+--------------------+-----+\n",
            "only showing top 20 rows\n",
            "\n"
          ]
        }
      ],
      "source": [
        "#Aggregation of data by 'incident_address'\n",
        "df.groupBy('incident_address').count().show()"
      ]
    },
    {
      "cell_type": "code",
      "execution_count": 140,
      "id": "uVZN9fWJjAbb",
      "metadata": {
        "colab": {
          "base_uri": "https://localhost:8080/"
        },
        "id": "uVZN9fWJjAbb",
        "outputId": "fa29aa9f-dddc-4154-c5cd-56ec2739b8d9"
      },
      "outputs": [
        {
          "output_type": "stream",
          "name": "stdout",
          "text": [
            "+------------+-----+\n",
            "|victim_count|count|\n",
            "+------------+-----+\n",
            "|           1| 5548|\n",
            "+------------+-----+\n",
            "\n"
          ]
        }
      ],
      "source": [
        "#Aggregation of data by 'victim_count'\n",
        "df.groupBy('victim_count').count().show()"
      ]
    },
    {
      "cell_type": "code",
      "execution_count": 141,
      "id": "_S7ILavMjDoP",
      "metadata": {
        "colab": {
          "base_uri": "https://localhost:8080/"
        },
        "id": "_S7ILavMjDoP",
        "outputId": "b3528cf1-1e93-451d-a413-d43ffded7c4c"
      },
      "outputs": [
        {
          "output_type": "stream",
          "name": "stdout",
          "text": [
            "+--------+-----+\n",
            "|is_crime|count|\n",
            "+--------+-----+\n",
            "|       1| 5548|\n",
            "+--------+-----+\n",
            "\n"
          ]
        }
      ],
      "source": [
        "#Aggregation of data by type of crime\n",
        "df.groupBy('is_crime').count().show()"
      ]
    },
    {
      "cell_type": "code",
      "execution_count": 142,
      "id": "G6kIs2vvjDq8",
      "metadata": {
        "colab": {
          "base_uri": "https://localhost:8080/"
        },
        "id": "G6kIs2vvjDq8",
        "outputId": "1e5bd451-9897-4159-8e4d-fc5f5edc9c2c"
      },
      "outputs": [
        {
          "output_type": "stream",
          "name": "stdout",
          "text": [
            "+--------------------+-----+\n",
            "|       reported_date|count|\n",
            "+--------------------+-----+\n",
            "|5/29/2020 2:15:00 PM|    1|\n",
            "|1/25/2022 12:16:0...|    1|\n",
            "|10/11/2022 11:51:...|    1|\n",
            "| 9/6/2019 8:37:00 AM|    1|\n",
            "|4/26/2022 9:24:00 AM|    1|\n",
            "|6/2/2022 10:58:00 AM|    1|\n",
            "|2/14/2022 9:28:00 AM|    1|\n",
            "|6/15/2020 2:07:00 PM|    1|\n",
            "|10/14/2020 6:39:0...|    1|\n",
            "|6/7/2022 12:34:00 PM|    1|\n",
            "|11/4/2018 12:10:0...|    1|\n",
            "|10/21/2020 11:43:...|    1|\n",
            "|3/29/2020 8:29:00 AM|    1|\n",
            "|6/1/2020 10:42:00 AM|    1|\n",
            "|4/23/2021 11:59:0...|    1|\n",
            "| 4/9/2021 2:54:00 PM|    1|\n",
            "|5/29/2022 6:26:00 PM|    1|\n",
            "|4/11/2022 10:35:0...|    1|\n",
            "|8/16/2021 12:50:0...|    1|\n",
            "|6/21/2020 11:02:0...|    1|\n",
            "+--------------------+-----+\n",
            "only showing top 20 rows\n",
            "\n"
          ]
        }
      ],
      "source": [
        "#Aggregation of data by 'reported_date'\n",
        "df.groupBy('reported_date').count().show()"
      ]
    },
    {
      "cell_type": "code",
      "execution_count": 143,
      "id": "EfRRdypyjDtQ",
      "metadata": {
        "colab": {
          "base_uri": "https://localhost:8080/"
        },
        "id": "EfRRdypyjDtQ",
        "outputId": "6dc4eddd-2c36-4872-a427-dea641580322"
      },
      "outputs": [
        {
          "output_type": "stream",
          "name": "stdout",
          "text": [
            "+--------------------+-----------------+\n",
            "|     offense_type_id|avg(victim_count)|\n",
            "+--------------------+-----------------+\n",
            "|criminal-mischief...|              1.0|\n",
            "+--------------------+-----------------+\n",
            "\n"
          ]
        }
      ],
      "source": [
        "#Average number of victims per type of crime\n",
        "df.groupBy('offense_type_id').avg('victim_count').show()"
      ]
    },
    {
      "cell_type": "code",
      "execution_count": 144,
      "id": "rMbAdCQrjDvi",
      "metadata": {
        "colab": {
          "base_uri": "https://localhost:8080/"
        },
        "id": "rMbAdCQrjDvi",
        "outputId": "8d4b6ff6-bcd5-47b7-9f7c-bec400ab680f"
      },
      "outputs": [
        {
          "output_type": "stream",
          "name": "stdout",
          "text": [
            "+--------------------+-----------------+\n",
            "|     offense_type_id|sum(victim_count)|\n",
            "+--------------------+-----------------+\n",
            "|criminal-mischief...|             5548|\n",
            "+--------------------+-----------------+\n",
            "\n"
          ]
        }
      ],
      "source": [
        "#Aggregation of data by type of crime and ranking of results by number of victims per crime\n",
        "df.groupBy(\"offense_type_id\").sum(\"victim_count\").orderBy(\"sum(victim_count)\").show()"
      ]
    },
    {
      "cell_type": "code",
      "execution_count": 145,
      "id": "0X0iT2MNjJST",
      "metadata": {
        "id": "0X0iT2MNjJST"
      },
      "outputs": [],
      "source": [
        "#Identify crimes that occurred in the CBD neighborhood\n",
        "val1=df.filter(df[\"neighborhood_id\"].like(\"cbd\"))"
      ]
    },
    {
      "cell_type": "code",
      "execution_count": 146,
      "id": "99xT42d6jJUx",
      "metadata": {
        "colab": {
          "base_uri": "https://localhost:8080/"
        },
        "id": "99xT42d6jJUx",
        "outputId": "7551fda6-4a3e-49e9-f585-8b39d6409749"
      },
      "outputs": [
        {
          "output_type": "execute_result",
          "data": {
            "text/plain": [
              "180"
            ]
          },
          "metadata": {},
          "execution_count": 146
        }
      ],
      "source": [
        "val1.count()"
      ]
    },
    {
      "cell_type": "code",
      "execution_count": 147,
      "id": "-_Jt70YJjJXL",
      "metadata": {
        "colab": {
          "base_uri": "https://localhost:8080/"
        },
        "id": "-_Jt70YJjJXL",
        "outputId": "e0f76c15-9809-40c9-f015-a59c69d4a76d"
      },
      "outputs": [
        {
          "output_type": "stream",
          "name": "stdout",
          "text": [
            "+---------------+--------------------+-----------+\n",
            "|neighborhood_id|     offense_type_id|crime_count|\n",
            "+---------------+--------------------+-----------+\n",
            "|      wellshire|criminal-mischief...|          6|\n",
            "|        skyland|criminal-mischief...|         13|\n",
            "|       rosedale|criminal-mischief...|         19|\n",
            "|   country-club|criminal-mischief...|         20|\n",
            "|washington-park|criminal-mischief...|         22|\n",
            "|   indian-creek|criminal-mischief...|         22|\n",
            "|   cory-merrill|criminal-mischief...|         24|\n",
            "|          regis|criminal-mischief...|         25|\n",
            "|    barnum-west|criminal-mischief...|         29|\n",
            "|        belcaro|criminal-mischief...|         30|\n",
            "| jefferson-park|criminal-mischief...|         31|\n",
            "|        hilltop|criminal-mischief...|         31|\n",
            "|      city-park|criminal-mischief...|         32|\n",
            "| southmoor-park|criminal-mischief...|         32|\n",
            "|       whittier|criminal-mischief...|         33|\n",
            "|      montclair|criminal-mischief...|         34|\n",
            "|   chaffee-park|criminal-mischief...|         38|\n",
            "|north-park-hill|criminal-mischief...|         40|\n",
            "|     fort-logan|criminal-mischief...|         40|\n",
            "|  west-highland|criminal-mischief...|         41|\n",
            "+---------------+--------------------+-----------+\n",
            "only showing top 20 rows\n",
            "\n"
          ]
        }
      ],
      "source": [
        "#Identify the most common types of crime in each neighborhood\n",
        "df.groupBy(\"neighborhood_id\", \"offense_type_id\").agg(count(\"offense_type_id\").alias(\"crime_count\"))\\\n",
        ".orderBy(\"crime_count\", descending=True).show()"
      ]
    },
    {
      "cell_type": "code",
      "execution_count": 148,
      "id": "lVb-aPNOdFry",
      "metadata": {
        "id": "lVb-aPNOdFry"
      },
      "outputs": [],
      "source": [
        "data = spark.read.csv(\"crime.csv\", header=True, inferSchema=True)\n"
      ]
    },
    {
      "cell_type": "code",
      "execution_count": 149,
      "id": "x1ZRNZxTRc7K",
      "metadata": {
        "colab": {
          "base_uri": "https://localhost:8080/"
        },
        "id": "x1ZRNZxTRc7K",
        "outputId": "2c508408-871a-4c1d-cae4-86ef48c9a9d6"
      },
      "outputs": [
        {
          "output_type": "stream",
          "name": "stdout",
          "text": [
            "root\n",
            " |-- incident_id: long (nullable = true)\n",
            " |-- offense_id: long (nullable = true)\n",
            " |-- offense_code: integer (nullable = true)\n",
            " |-- offense_code_extension: integer (nullable = true)\n",
            " |-- offense_type_id: string (nullable = true)\n",
            " |-- offense_category_id: string (nullable = true)\n",
            " |-- first_occurrence_date: string (nullable = true)\n",
            " |-- last_occurrence_date: string (nullable = true)\n",
            " |-- reported_date: string (nullable = true)\n",
            " |-- incident_address: string (nullable = true)\n",
            " |-- geo_x: double (nullable = true)\n",
            " |-- geo_y: double (nullable = true)\n",
            " |-- geo_lon: double (nullable = true)\n",
            " |-- geo_lat: double (nullable = true)\n",
            " |-- district_id: string (nullable = true)\n",
            " |-- precinct_id: integer (nullable = true)\n",
            " |-- neighborhood_id: string (nullable = true)\n",
            " |-- is_crime: integer (nullable = true)\n",
            " |-- is_traffic: integer (nullable = true)\n",
            " |-- victim_count: integer (nullable = true)\n",
            "\n",
            "+-----------+----------------+------------+----------------------+--------------------+-------------------+---------------------+--------------------+--------------------+-------------------+---------+---------+------------+----------+-----------+-----------+---------------+--------+----------+------------+\n",
            "|incident_id|      offense_id|offense_code|offense_code_extension|     offense_type_id|offense_category_id|first_occurrence_date|last_occurrence_date|       reported_date|   incident_address|    geo_x|    geo_y|     geo_lon|   geo_lat|district_id|precinct_id|neighborhood_id|is_crime|is_traffic|victim_count|\n",
            "+-----------+----------------+------------+----------------------+--------------------+-------------------+---------------------+--------------------+--------------------+-------------------+---------+---------+------------+----------+-----------+-----------+---------------+--------+----------+------------+\n",
            "|  202268791| 202268791299900|        2999|                     0|criminal-mischief...|    public-disorder| 2/10/2022 2:50:00 AM|                NULL|2/10/2022 3:16:00 AM| 1107 N SANTA FE DR|3140929.0|1692612.0|-104.9989101|39.7339566|          1|        123|   lincoln-park|       1|         0|           1|\n",
            "| 2021387586|2021387586299900|        2999|                     0|criminal-mischief...|    public-disorder|  7/7/2021 9:02:00 PM|                NULL|7/8/2021 12:55:00 AM|        815 16TH ST|3142470.0|1697098.0|-104.9933421| 39.746248|          6|        611|            cbd|       1|         0|           1|\n",
            "| 2020641486|2020641486299900|        2999|                     0|criminal-mischief...|    public-disorder| 10/29/2020 1:30:0...|                NULL|10/29/2020 4:31:0...|4745 N FEDERAL BLVD|3133352.0|1710396.0|-105.0255203|39.7828883|          1|        111|       berkeley|       1|         0|           1|\n",
            "| 2018612468|2018612468299900|        2999|                     0|criminal-mischief...|    public-disorder|  9/6/2018 5:00:00 PM|9/6/2018 11:00:00 PM| 9/7/2018 9:58:00 AM|  65 S FEDERAL BLVD|3133534.0|1685797.0|  -105.02533|39.7153571|          4|        411|         barnum|       1|         0|           1|\n",
            "| 2020293614|2020293614299900|        2999|                     0|criminal-mischief...|    public-disorder|  5/8/2020 5:00:00 AM| 5/8/2020 6:30:00 PM|5/13/2020 10:00:0...| 12295 E ALBROOK DR|3184065.0|1710782.0|-104.8450739|39.7830825|          5|        521|      montbello|       1|         0|           1|\n",
            "+-----------+----------------+------------+----------------------+--------------------+-------------------+---------------------+--------------------+--------------------+-------------------+---------+---------+------------+----------+-----------+-----------+---------------+--------+----------+------------+\n",
            "only showing top 5 rows\n",
            "\n"
          ]
        }
      ],
      "source": [
        "\n",
        "data.printSchema()\n",
        "data.show(5)"
      ]
    },
    {
      "cell_type": "code",
      "execution_count": 150,
      "id": "oeWk65k-Rpfg",
      "metadata": {
        "colab": {
          "base_uri": "https://localhost:8080/"
        },
        "id": "oeWk65k-Rpfg",
        "outputId": "76a26ef1-6fff-4808-8fab-b4e7a75a60d0"
      },
      "outputs": [
        {
          "output_type": "stream",
          "name": "stdout",
          "text": [
            "+-----------+-----------------+------------+----------------------+--------------------+-------------------+---------------------+--------------------+--------------------+------------------+---------+---------+------------+----------+-----------+-----------+---------------+--------+----------+------------+----+-----+---------+----+\n",
            "|incident_id|       offense_id|offense_code|offense_code_extension|     offense_type_id|offense_category_id|first_occurrence_date|last_occurrence_date|       reported_date|  incident_address|    geo_x|    geo_y|     geo_lon|   geo_lat|district_id|precinct_id|neighborhood_id|is_crime|is_traffic|victim_count|Year|Month|DayOfWeek|Hour|\n",
            "+-----------+-----------------+------------+----------------------+--------------------+-------------------+---------------------+--------------------+--------------------+------------------+---------+---------+------------+----------+-----------+-----------+---------------+--------+----------+------------+----+-----+---------+----+\n",
            "| 2018612468| 2018612468299900|        2999|                     0|criminal-mischief...|    public-disorder|  2018-09-06 17:00:00|9/6/2018 11:00:00 PM| 9/7/2018 9:58:00 AM| 65 S FEDERAL BLVD|3133534.0|1685797.0|  -105.02533|39.7153571|          4|        411|         barnum|       1|         0|           1|2018|    9|        5|  17|\n",
            "| 2020293614| 2020293614299900|        2999|                     0|criminal-mischief...|    public-disorder|  2020-05-08 05:00:00| 5/8/2020 6:30:00 PM|5/13/2020 10:00:0...|12295 E ALBROOK DR|3184065.0|1710782.0|-104.8450739|39.7830825|          5|        521|      montbello|       1|         0|           1|2020|    5|        6|   5|\n",
            "|20206006868|20206006868299900|        2999|                     0|criminal-mischief...|    public-disorder|  2020-06-06 01:00:00| 6/6/2020 5:00:00 AM| 6/6/2020 1:29:00 PM|  900 N MADISON ST|3155851.0|1691502.0|-104.9458785|39.7306715|          2|        213|  congress-park|       1|         0|           1|2020|    6|        7|   1|\n",
            "|20226013245|20226013245299900|        2999|                     0|criminal-mischief...|    public-disorder|  2022-07-14 02:01:00|7/14/2022 2:04:00 AM|7/14/2022 2:49:00 AM| 2540 N DOWNING ST|3148172.0|1699978.0|-104.9730054| 39.754065|          2|        211|       whittier|       1|         0|           1|2022|    7|        5|   2|\n",
            "| 2022454199| 2022454199299900|        2999|                     0|criminal-mischief...|    public-disorder|  2022-09-02 21:30:00| 9/3/2022 6:55:00 AM|9/3/2022 11:07:00 AM|10 N SHERIDAN BLVD|3125808.0|1686311.0| -105.052784|39.7168757|          4|        411|    barnum-west|       1|         0|           1|2022|    9|        6|  21|\n",
            "+-----------+-----------------+------------+----------------------+--------------------+-------------------+---------------------+--------------------+--------------------+------------------+---------+---------+------------+----------+-----------+-----------+---------------+--------+----------+------------+----+-----+---------+----+\n",
            "only showing top 5 rows\n",
            "\n"
          ]
        }
      ],
      "source": [
        "# handle missing values\n",
        "data=data.dropna()\n",
        "from pyspark.sql.functions import year, month, dayofweek, hour, to_timestamp\n",
        "# convert datatype\n",
        "data_cleaned = data.withColumn(\"first_occurrence_date\", to_timestamp(col(\"first_occurrence_date\"), \"M/d/yyyy h:mm:ss a\")) \\\n",
        "                   .withColumn(\"Year\", year(col(\"first_occurrence_date\"))) \\\n",
        "                   .withColumn(\"Month\", month(col(\"first_occurrence_date\"))) \\\n",
        "                   .withColumn(\"DayOfWeek\", dayofweek(col(\"first_occurrence_date\"))) \\\n",
        "                   .withColumn(\"Hour\", hour(col(\"first_occurrence_date\")))\n",
        "\n",
        "data_cleaned.show(5)\n"
      ]
    },
    {
      "cell_type": "code",
      "execution_count": 151,
      "id": "OQ7A3rOJhBHS",
      "metadata": {
        "colab": {
          "base_uri": "https://localhost:8080/",
          "height": 560
        },
        "id": "OQ7A3rOJhBHS",
        "outputId": "4f4a98e9-3c55-4e14-968d-5c3d2d629723"
      },
      "outputs": [
        {
          "output_type": "display_data",
          "data": {
            "text/plain": [
              "<Figure size 1200x600 with 1 Axes>"
            ],
            "image/png": "[encoded data removed]"
          },
          "metadata": {}
        }
      ],
      "source": [
        "# Distribution of crimes by province\n",
        "# Convert data to Pandas DataFrame\n",
        "df_pandas = data_cleaned.groupBy(\"district_id\").count().toPandas()\n",
        "\n",
        "# Data visualization\n",
        "plt.figure(figsize=(12, 6))\n",
        "sns.barplot(x=\"district_id\", y=\"count\", data=df_pandas)\n",
        "plt.title(\"Crime Distribution by District\")\n",
        "plt.xlabel(\"District\")\n",
        "plt.ylabel(\"Crime Count\")\n",
        "plt.xticks(rotation=90)\n",
        "plt.show()"
      ]
    },
    {
      "cell_type": "code",
      "execution_count": 152,
      "id": "6KzKf_DMhTLJ",
      "metadata": {
        "colab": {
          "base_uri": "https://localhost:8080/",
          "height": 654
        },
        "id": "6KzKf_DMhTLJ",
        "outputId": "673ebd86-e24b-4dfa-8180-b6c8763d167e"
      },
      "outputs": [
        {
          "output_type": "display_data",
          "data": {
            "text/plain": [
              "<Figure size 1200x600 with 1 Axes>"
            ],
            "image/png": "[encoded data removed]"
          },
          "metadata": {}
        }
      ],
      "source": [
        "# Distribution of crimes according to type of crime\n",
        "df_pandas = data_cleaned.groupBy(\"offense_category_id\").count().toPandas()\n",
        "\n",
        "# Data visualization\n",
        "plt.figure(figsize=(12, 6))\n",
        "sns.barplot(x=\"offense_category_id\", y=\"count\", data=df_pandas)\n",
        "plt.title(\"Crime Distribution by Offense Category\")\n",
        "plt.xlabel(\"Offense Category\")\n",
        "plt.ylabel(\"Crime Count\")\n",
        "plt.xticks(rotation=90)\n",
        "plt.show()"
      ]
    },
    {
      "cell_type": "code",
      "execution_count": 153,
      "id": "t8P6MgB7hLaw",
      "metadata": {
        "colab": {
          "base_uri": "https://localhost:8080/",
          "height": 598
        },
        "id": "t8P6MgB7hLaw",
        "outputId": "c63c78cf-bec7-4493-9772-5e4e6c990bc6"
      },
      "outputs": [
        {
          "output_type": "display_data",
          "data": {
            "text/plain": [
              "<Figure size 1200x600 with 1 Axes>"
            ],
            "image/png": "[encoded data removed]"
          },
          "metadata": {}
        }
      ],
      "source": [
        "# Distribution of crimes by year\n",
        "df_pandas = data_cleaned.groupBy(\"Year\").count().toPandas()\n",
        "\n",
        "# Data visualization\n",
        "plt.figure(figsize=(12, 6))\n",
        "sns.lineplot(x=\"Year\", y=\"count\", data=df_pandas, marker='o')\n",
        "plt.title(\"Crime Distribution by Year\")\n",
        "plt.xlabel(\"Year\")\n",
        "plt.ylabel(\"Crime Count\")\n",
        "plt.xticks(rotation=90)\n",
        "plt.show()\n"
      ]
    },
    {
      "cell_type": "code",
      "execution_count": 154,
      "id": "aYDgX_YthUGh",
      "metadata": {
        "colab": {
          "base_uri": "https://localhost:8080/",
          "height": 564
        },
        "id": "aYDgX_YthUGh",
        "outputId": "09c808ca-fe9b-4687-e5ea-5185953ff927"
      },
      "outputs": [
        {
          "output_type": "display_data",
          "data": {
            "text/plain": [
              "<Figure size 1200x600 with 1 Axes>"
            ],
            "image/png": "[encoded data removed]"
          },
          "metadata": {}
        }
      ],
      "source": [
        "# Distribution of crimes by month\n",
        "df_pandas = data_cleaned.groupBy(\"Month\").count().toPandas()\n",
        "\n",
        "# Data visualization\n",
        "plt.figure(figsize=(12, 6))\n",
        "sns.barplot(x=\"Month\", y=\"count\", data=df_pandas)\n",
        "plt.title(\"Crime Distribution by Month\")\n",
        "plt.xlabel(\"Month\")\n",
        "plt.ylabel(\"Crime Count\")\n",
        "plt.show()\n"
      ]
    },
    {
      "cell_type": "code",
      "execution_count": 155,
      "id": "feszNkdRiGpm",
      "metadata": {
        "colab": {
          "base_uri": "https://localhost:8080/",
          "height": 564
        },
        "id": "feszNkdRiGpm",
        "outputId": "19e8da82-4c1a-40bc-8937-9cbf6b307bc9"
      },
      "outputs": [
        {
          "output_type": "display_data",
          "data": {
            "text/plain": [
              "<Figure size 1200x600 with 1 Axes>"
            ],
            "image/png": "[encoded data removed]"
          },
          "metadata": {}
        }
      ],
      "source": [
        "# Distribution of crimes by day of the week\n",
        "df_pandas = data_cleaned.groupBy(\"DayOfWeek\").count().toPandas()\n",
        "\n",
        "# Data visualization\n",
        "plt.figure(figsize=(12, 6))\n",
        "sns.barplot(x=\"DayOfWeek\", y=\"count\", data=df_pandas)\n",
        "plt.title(\"Crime Distribution by Day of Week\")\n",
        "plt.xlabel(\"Day of Week\")\n",
        "plt.ylabel(\"Crime Count\")\n",
        "plt.show()"
      ]
    },
    {
      "cell_type": "code",
      "execution_count": 156,
      "id": "d6cDnibwiNwF",
      "metadata": {
        "colab": {
          "base_uri": "https://localhost:8080/",
          "height": 564
        },
        "id": "d6cDnibwiNwF",
        "outputId": "b8667eca-90a0-474b-8b34-7ff48fc1f5a5"
      },
      "outputs": [
        {
          "output_type": "display_data",
          "data": {
            "text/plain": [
              "<Figure size 1200x600 with 1 Axes>"
            ],
            "image/png": "[encoded data removed]"
          },
          "metadata": {}
        }
      ],
      "source": [
        "# Distribution of crimes by hour\n",
        "df_pandas = data_cleaned.groupBy(\"Hour\").count().toPandas()\n",
        "\n",
        "# Data visualization\n",
        "plt.figure(figsize=(12, 6))\n",
        "sns.barplot(x=\"Hour\", y=\"count\", data=df_pandas)\n",
        "plt.title(\"Crime Distribution by Hour\")\n",
        "plt.xlabel(\"Hour\")\n",
        "plt.ylabel(\"Crime Count\")\n",
        "plt.show()"
      ]
    },
    {
      "cell_type": "code",
      "execution_count": 157,
      "id": "deznCxvldrF1",
      "metadata": {
        "colab": {
          "base_uri": "https://localhost:8080/"
        },
        "id": "deznCxvldrF1",
        "outputId": "dea0d3d9-a806-44fc-f5f2-4a525f7f9a65"
      },
      "outputs": [
        {
          "output_type": "stream",
          "name": "stdout",
          "text": [
            "+-----------+-----------------+------------+----------------------+--------------------+-------------------+---------------------+--------------------+--------------------+------------------+---------+---------+------------+----------+-----------+-----------+---------------+--------+----------+------------+----+-----+---------+----+-------------------+---------------------------+\n",
            "|incident_id|       offense_id|offense_code|offense_code_extension|     offense_type_id|offense_category_id|first_occurrence_date|last_occurrence_date|       reported_date|  incident_address|    geo_x|    geo_y|     geo_lon|   geo_lat|district_id|precinct_id|neighborhood_id|is_crime|is_traffic|victim_count|Year|Month|DayOfWeek|Hour|district_id_indexed|offense_category_id_indexed|\n",
            "+-----------+-----------------+------------+----------------------+--------------------+-------------------+---------------------+--------------------+--------------------+------------------+---------+---------+------------+----------+-----------+-----------+---------------+--------+----------+------------+----+-----+---------+----+-------------------+---------------------------+\n",
            "| 2018612468| 2018612468299900|        2999|                     0|criminal-mischief...|    public-disorder|  2018-09-06 17:00:00|9/6/2018 11:00:00 PM| 9/7/2018 9:58:00 AM| 65 S FEDERAL BLVD|3133534.0|1685797.0|  -105.02533|39.7153571|          4|        411|         barnum|       1|         0|           1|2018|    9|        5|  17|                4.0|                        0.0|\n",
            "| 2020293614| 2020293614299900|        2999|                     0|criminal-mischief...|    public-disorder|  2020-05-08 05:00:00| 5/8/2020 6:30:00 PM|5/13/2020 10:00:0...|12295 E ALBROOK DR|3184065.0|1710782.0|-104.8450739|39.7830825|          5|        521|      montbello|       1|         0|           1|2020|    5|        6|   5|                5.0|                        0.0|\n",
            "|20206006868|20206006868299900|        2999|                     0|criminal-mischief...|    public-disorder|  2020-06-06 01:00:00| 6/6/2020 5:00:00 AM| 6/6/2020 1:29:00 PM|  900 N MADISON ST|3155851.0|1691502.0|-104.9458785|39.7306715|          2|        213|  congress-park|       1|         0|           1|2020|    6|        7|   1|                3.0|                        0.0|\n",
            "|20226013245|20226013245299900|        2999|                     0|criminal-mischief...|    public-disorder|  2022-07-14 02:01:00|7/14/2022 2:04:00 AM|7/14/2022 2:49:00 AM| 2540 N DOWNING ST|3148172.0|1699978.0|-104.9730054| 39.754065|          2|        211|       whittier|       1|         0|           1|2022|    7|        5|   2|                3.0|                        0.0|\n",
            "| 2022454199| 2022454199299900|        2999|                     0|criminal-mischief...|    public-disorder|  2022-09-02 21:30:00| 9/3/2022 6:55:00 AM|9/3/2022 11:07:00 AM|10 N SHERIDAN BLVD|3125808.0|1686311.0| -105.052784|39.7168757|          4|        411|    barnum-west|       1|         0|           1|2022|    9|        6|  21|                4.0|                        0.0|\n",
            "+-----------+-----------------+------------+----------------------+--------------------+-------------------+---------------------+--------------------+--------------------+------------------+---------+---------+------------+----------+-----------+-----------+---------------+--------+----------+------------+----+-----+---------+----+-------------------+---------------------------+\n",
            "only showing top 5 rows\n",
            "\n"
          ]
        }
      ],
      "source": [
        "#  Convert text values ​​to numerical using StringIndexer\n",
        "from pyspark.ml.feature import StringIndexer\n",
        "\n",
        "# Convert text values ​​in the \"district_id\" column to numerical values\n",
        "indexer_district = StringIndexer(inputCol=\"district_id\", outputCol=\"district_id_indexed\")\n",
        "data_indexed = indexer_district.fit(data_cleaned).transform(data_cleaned)\n",
        "\n",
        "# Convert the text values ​​in the \"offense_category_id\" column to numerical values\n",
        "indexer_offense = StringIndexer(inputCol=\"offense_category_id\", outputCol=\"offense_category_id_indexed\")\n",
        "data_indexed = indexer_offense.fit(data_indexed).transform(data_indexed)\n",
        "\n",
        "# Display data after conversion\n",
        "data_indexed.show(5)\n"
      ]
    },
    {
      "cell_type": "code",
      "execution_count": 158,
      "id": "XErxLarLdvHr",
      "metadata": {
        "id": "XErxLarLdvHr"
      },
      "outputs": [],
      "source": [
        "# Preparing data for machine learning tasks:\n",
        "\n",
        "from pyspark.ml.feature import VectorAssembler\n",
        "\n",
        "# Specify which columns will be used as features\n",
        "feature_columns = [\"offense_code\", \"offense_code_extension\", \"district_id_indexed\", \"Year\", \"Month\", \"DayOfWeek\", \"Hour\", \"geo_lon\", \"geo_lat\"]\n",
        "assembler = VectorAssembler(inputCols=feature_columns, outputCol=\"features\")\n",
        "\n",
        "# Convert data into a format suitable for machine learning models\n",
        "final_data = assembler.transform(data_indexed).select(\"features\", \"offense_category_id_indexed\")\n"
      ]
    },
    {
      "cell_type": "code",
      "execution_count": 165,
      "id": "hv3h8tmvd43x",
      "metadata": {
        "id": "hv3h8tmvd43x"
      },
      "outputs": [],
      "source": [
        "# Split the data set into training and testing\n",
        "\n",
        "train_data, test_data = final_data.randomSplit([0.8, 0.2], seed=1234)\n"
      ]
    },
    {
      "cell_type": "code",
      "execution_count": 166,
      "id": "kb_5dwy0d7oh",
      "metadata": {
        "colab": {
          "base_uri": "https://localhost:8080/"
        },
        "id": "kb_5dwy0d7oh",
        "outputId": "1b2d8794-ca2b-43aa-8583-6891490f232a"
      },
      "outputs": [
        {
          "output_type": "stream",
          "name": "stdout",
          "text": [
            "+----------+---------------------------+--------------------+\n",
            "|prediction|offense_category_id_indexed|            features|\n",
            "+----------+---------------------------+--------------------+\n",
            "|       0.0|                        0.0|[2999.0,0.0,0.0,2...|\n",
            "|       0.0|                        0.0|[2999.0,0.0,0.0,2...|\n",
            "|       0.0|                        0.0|[2999.0,0.0,0.0,2...|\n",
            "|       0.0|                        0.0|[2999.0,0.0,0.0,2...|\n",
            "|       0.0|                        0.0|[2999.0,0.0,0.0,2...|\n",
            "+----------+---------------------------+--------------------+\n",
            "only showing top 5 rows\n",
            "\n",
            "Accuracy: 1.0\n"
          ]
        }
      ],
      "source": [
        "from pyspark.ml.classification import RandomForestClassifier\n",
        "from pyspark.ml.evaluation import MulticlassClassificationEvaluator\n",
        "\n",
        "# Create a random forest model\n",
        "rf = RandomForestClassifier(labelCol=\"offense_category_id_indexed\", featuresCol=\"features\")\n",
        "rf.setSeed(1234)\n",
        "rf_model = rf.fit(train_data)\n",
        "\n",
        "# Prediction using the model\n",
        "predictions = rf_model.transform(test_data)\n",
        "predictions.select(\"prediction\", \"offense_category_id_indexed\", \"features\").show(5)\n",
        "\n",
        "# Model evaluation\n",
        "evaluator = MulticlassClassificationEvaluator(labelCol=\"offense_category_id_indexed\", predictionCol=\"prediction\", metricName=\"accuracy\")\n",
        "accuracy = evaluator.evaluate(predictions)\n",
        "print(f\"Accuracy: {accuracy}\")\n"
      ]
    },
    {
      "cell_type": "code",
      "execution_count": 167,
      "id": "4GmI0k-ed9tQ",
      "metadata": {
        "colab": {
          "base_uri": "https://localhost:8080/"
        },
        "id": "4GmI0k-ed9tQ",
        "outputId": "182897f0-4efb-436b-b670-c3cff591bf4a"
      },
      "outputs": [
        {
          "output_type": "stream",
          "name": "stdout",
          "text": [
            "+----------+---------------------------+--------------------+\n",
            "|prediction|offense_category_id_indexed|            features|\n",
            "+----------+---------------------------+--------------------+\n",
            "|       0.0|                        0.0|[2999.0,0.0,0.0,2...|\n",
            "|       0.0|                        0.0|[2999.0,0.0,0.0,2...|\n",
            "|       0.0|                        0.0|[2999.0,0.0,0.0,2...|\n",
            "|       0.0|                        0.0|[2999.0,0.0,0.0,2...|\n",
            "|       0.0|                        0.0|[2999.0,0.0,0.0,2...|\n",
            "+----------+---------------------------+--------------------+\n",
            "only showing top 5 rows\n",
            "\n",
            "MLP Accuracy: 1.0\n"
          ]
        }
      ],
      "source": [
        "from pyspark.ml.classification import MultilayerPerceptronClassifier\n",
        "\n",
        "# Define the layers of the neural network\n",
        "layers = [len(feature_columns), 64, 32, len(data_indexed.select(\"offense_category_id_indexed\").distinct().collect())]\n",
        "\n",
        "# Building the model\n",
        "mlp = MultilayerPerceptronClassifier(labelCol=\"offense_category_id_indexed\", featuresCol=\"features\", layers=layers, blockSize=128, seed=1234, maxIter=100)\n",
        "mlp_model = mlp.fit(train_data)\n",
        "\n",
        "# Prediction using the model\n",
        "predictions_mlp = mlp_model.transform(test_data)\n",
        "predictions_mlp.select(\"prediction\", \"offense_category_id_indexed\", \"features\").show(5)\n",
        "\n",
        "# Model evaluation\n",
        "accuracy_mlp = evaluator.evaluate(predictions_mlp)\n",
        "print(f\"MLP Accuracy: {accuracy_mlp}\")"
      ]
    }
  ],
  "metadata": {
    "colab": {
      "provenance": []
    },
    "kernelspec": {
      "display_name": "Python 3 (ipykernel)",
      "language": "python",
      "name": "python3"
    },
    "language_info": {
      "codemirror_mode": {
        "name": "ipython",
        "version": 3
      },
      "file_extension": ".py",
      "mimetype": "text/x-python",
      "name": "python",
      "nbconvert_exporter": "python",
      "pygments_lexer": "ipython3",
      "version": "3.11.3"
    }
  },
  "nbformat": 4,
  "nbformat_minor": 5
}